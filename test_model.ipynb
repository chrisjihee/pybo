{
 "cells": [
  {
   "cell_type": "code",
   "id": "initial_id",
   "metadata": {
    "collapsed": true
   },
   "source": [
    "from datetime import datetime\n",
    "\n",
    "from pybo import create_app, db\n",
    "from pybo.models import Question, Answer\n",
    "\n",
    "app = create_app()"
   ],
   "outputs": [],
   "execution_count": null
  },
  {
   "metadata": {},
   "cell_type": "code",
   "source": [
    "with app.app_context():\n",
    "    for q in Question.query.all():\n",
    "        db.session.delete(q)\n",
    "        db.session.commit()\n",
    "    for a in Answer.query.all():\n",
    "        db.session.delete(a)\n",
    "        db.session.commit()"
   ],
   "id": "a5a2cbbea84e5d97",
   "outputs": [],
   "execution_count": null
  },
  {
   "metadata": {},
   "cell_type": "code",
   "source": [
    "with app.app_context():\n",
    "    q = Question(subject='Pybo가 무엇인가요?', content='Pybo에 대해서 알고 싶습니다.', create_date=datetime.now())\n",
    "    db.session.add(q)\n",
    "    db.session.commit()\n",
    "    print(f\"q.id={q.id}\")\n",
    "\n",
    "    q = Question(subject='Flask 모델 질문입니다.', content='id는 자동으로 생성되나요?', create_date=datetime.now())\n",
    "    db.session.add(q)\n",
    "    db.session.commit()\n",
    "    print(f\"q.id={q.id}\")"
   ],
   "id": "2524c02bce7b755a",
   "outputs": [],
   "execution_count": null
  },
  {
   "metadata": {},
   "cell_type": "code",
   "source": [
    "with app.app_context():\n",
    "    print(\"Question.query.all():\")\n",
    "    for q in Question.query.all():\n",
    "        print(f\"  - {q}\")"
   ],
   "id": "c579593187c405cc",
   "outputs": [],
   "execution_count": null
  },
  {
   "metadata": {},
   "cell_type": "code",
   "source": [
    "with app.app_context():\n",
    "    print(\"Question.query.filter(Question.id==1).all():\")\n",
    "    for q in Question.query.filter(Question.id == 1).all():\n",
    "        print(f\"  - {q}\")"
   ],
   "id": "186e1063f24b76da",
   "outputs": [],
   "execution_count": null
  },
  {
   "metadata": {},
   "cell_type": "code",
   "source": [
    "with app.app_context():\n",
    "    q = db.session.get(Question, 1)\n",
    "    print(f\"  - {q}\")"
   ],
   "id": "b202733ccdaf1396",
   "outputs": [],
   "execution_count": null
  },
  {
   "metadata": {},
   "cell_type": "code",
   "source": [
    "with app.app_context():\n",
    "    print(\"Question.query.filter(Question.subject.like('%Flask%')).all()\")\n",
    "    for q in Question.query.filter(Question.subject.like('%Flask%')).all():\n",
    "        print(f\"  - {q}\")"
   ],
   "id": "e513c17befa64835",
   "outputs": [],
   "execution_count": null
  },
  {
   "metadata": {},
   "cell_type": "code",
   "source": [
    "with app.app_context():\n",
    "    q = db.session.get(Question, 2)\n",
    "    q.subject = 'Flask Model Question'\n",
    "    db.session.commit()\n",
    "\n",
    "    q = db.session.get(Question, 1)\n",
    "    db.session.delete(q)\n",
    "    db.session.commit()\n",
    "\n",
    "    print(\"Question.query.all():\")\n",
    "    for q in Question.query.all():\n",
    "        print(f\"  - {q}\")"
   ],
   "id": "8cf54c2dfaaea1d0",
   "outputs": [],
   "execution_count": null
  },
  {
   "metadata": {},
   "cell_type": "code",
   "source": [
    "with app.app_context():\n",
    "    q = db.session.get(Question, 2)\n",
    "    a = Answer(question=q, content='네 자동으로 생성됩니다.', create_date=datetime.now())\n",
    "    db.session.add(a)\n",
    "    db.session.commit()\n",
    "    print(f\"a.id={a.id}\")\n",
    "\n",
    "    a = db.session.get(Answer, 1)\n",
    "    print(f\"db.session.get(Answer, 1): {a}\")\n",
    "    print(f\"a.question: {a.question}\")\n",
    "    print(f\"q.answer_set:\")\n",
    "    for a in q.answer_set:\n",
    "        print(f\"  - {a}\")"
   ],
   "id": "90e56c427f0f3e7c",
   "outputs": [],
   "execution_count": null
  }
 ],
 "metadata": {
  "kernelspec": {
   "display_name": "Python 3",
   "language": "python",
   "name": "python3"
  },
  "language_info": {
   "codemirror_mode": {
    "name": "ipython",
    "version": 2
   },
   "file_extension": ".py",
   "mimetype": "text/x-python",
   "name": "python",
   "nbconvert_exporter": "python",
   "pygments_lexer": "ipython2",
   "version": "2.7.6"
  }
 },
 "nbformat": 4,
 "nbformat_minor": 5
}
