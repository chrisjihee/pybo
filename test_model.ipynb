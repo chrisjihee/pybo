{
 "cells": [
  {
   "cell_type": "code",
   "id": "initial_id",
   "metadata": {
    "collapsed": true,
    "ExecuteTime": {
     "end_time": "2024-10-07T16:05:07.574730Z",
     "start_time": "2024-10-07T16:05:07.384914Z"
    }
   },
   "source": [
    "from datetime import datetime\n",
    "\n",
    "from pybo import create_app, db\n",
    "from pybo.models import Question, Answer\n",
    "\n",
    "app = create_app()"
   ],
   "outputs": [
    {
     "name": "stdout",
     "output_type": "stream",
     "text": [
      "================================================================================\n",
      "BASE_DIR=/Users/chris/PycharmProjects/pybo\n",
      "SQLALCHEMY_DATABASE_URI=sqlite:////Users/chris/PycharmProjects/pybo/pybo.db\n",
      "TEMPLATE_FOLDER=/Users/chris/PycharmProjects/pybo/templates\n",
      "================================================================================\n"
     ]
    }
   ],
   "execution_count": 1
  },
  {
   "metadata": {
    "ExecuteTime": {
     "end_time": "2024-10-07T16:05:07.660943Z",
     "start_time": "2024-10-07T16:05:07.654409Z"
    }
   },
   "cell_type": "code",
   "source": [
    "with app.app_context():\n",
    "    for q in Question.query.all():\n",
    "        db.session.delete(q)\n",
    "        db.session.commit()\n",
    "    for a in Answer.query.all():\n",
    "        db.session.delete(a)\n",
    "        db.session.commit()"
   ],
   "id": "a5a2cbbea84e5d97",
   "outputs": [],
   "execution_count": 2
  },
  {
   "metadata": {
    "ExecuteTime": {
     "end_time": "2024-10-07T16:05:07.714973Z",
     "start_time": "2024-10-07T16:05:07.709267Z"
    }
   },
   "cell_type": "code",
   "source": [
    "with app.app_context():\n",
    "    q = Question(subject='Pybo가 무엇인가요?', content='Pybo에 대해서 알고 싶습니다.', create_date=datetime.now())\n",
    "    db.session.add(q)\n",
    "    db.session.commit()\n",
    "    print(f\"q.id={q.id}\")\n",
    "\n",
    "    q = Question(subject='Flask 모델 질문입니다.', content='id는 자동으로 생성되나요?', create_date=datetime.now())\n",
    "    db.session.add(q)\n",
    "    db.session.commit()\n",
    "    print(f\"q.id={q.id}\")"
   ],
   "id": "2524c02bce7b755a",
   "outputs": [
    {
     "name": "stdout",
     "output_type": "stream",
     "text": [
      "q.id=1\n",
      "q.id=2\n"
     ]
    }
   ],
   "execution_count": 3
  },
  {
   "metadata": {
    "ExecuteTime": {
     "end_time": "2024-10-07T16:05:07.784846Z",
     "start_time": "2024-10-07T16:05:07.782085Z"
    }
   },
   "cell_type": "code",
   "source": [
    "with app.app_context():\n",
    "    print(\"Question.query.all():\")\n",
    "    for q in Question.query.all():\n",
    "        print(f\"  - {q}\")"
   ],
   "id": "c579593187c405cc",
   "outputs": [
    {
     "name": "stdout",
     "output_type": "stream",
     "text": [
      "Question.query.all():\n",
      "  - Question(id: 1, subject: Pybo가 무엇인가요?)\n",
      "  - Question(id: 2, subject: Flask 모델 질문입니다.)\n"
     ]
    }
   ],
   "execution_count": 4
  },
  {
   "metadata": {
    "ExecuteTime": {
     "end_time": "2024-10-07T16:05:07.820384Z",
     "start_time": "2024-10-07T16:05:07.817129Z"
    }
   },
   "cell_type": "code",
   "source": [
    "with app.app_context():\n",
    "    print(\"Question.query.filter(Question.id==1).all():\")\n",
    "    for q in Question.query.filter(Question.id == 1).all():\n",
    "        print(f\"  - {q}\")"
   ],
   "id": "186e1063f24b76da",
   "outputs": [
    {
     "name": "stdout",
     "output_type": "stream",
     "text": [
      "Question.query.filter(Question.id==1).all():\n",
      "  - Question(id: 1, subject: Pybo가 무엇인가요?)\n"
     ]
    }
   ],
   "execution_count": 5
  },
  {
   "metadata": {
    "ExecuteTime": {
     "end_time": "2024-10-07T16:05:07.834660Z",
     "start_time": "2024-10-07T16:05:07.831742Z"
    }
   },
   "cell_type": "code",
   "source": [
    "with app.app_context():\n",
    "    q = db.session.get(Question, 1)\n",
    "    print(f\"  - {q}\")"
   ],
   "id": "b202733ccdaf1396",
   "outputs": [
    {
     "name": "stdout",
     "output_type": "stream",
     "text": [
      "  - Question(id: 1, subject: Pybo가 무엇인가요?)\n"
     ]
    }
   ],
   "execution_count": 6
  },
  {
   "metadata": {
    "ExecuteTime": {
     "end_time": "2024-10-07T16:05:07.845521Z",
     "start_time": "2024-10-07T16:05:07.842020Z"
    }
   },
   "cell_type": "code",
   "source": [
    "with app.app_context():\n",
    "    print(\"Question.query.filter(Question.subject.like('%Flask%')).all()\")\n",
    "    for q in Question.query.filter(Question.subject.like('%Flask%')).all():\n",
    "        print(f\"  - {q}\")"
   ],
   "id": "e513c17befa64835",
   "outputs": [
    {
     "name": "stdout",
     "output_type": "stream",
     "text": [
      "Question.query.filter(Question.subject.like('%Flask%')).all()\n",
      "  - Question(id: 2, subject: Flask 모델 질문입니다.)\n"
     ]
    }
   ],
   "execution_count": 7
  },
  {
   "metadata": {
    "ExecuteTime": {
     "end_time": "2024-10-07T16:05:07.858698Z",
     "start_time": "2024-10-07T16:05:07.852334Z"
    }
   },
   "cell_type": "code",
   "source": [
    "with app.app_context():\n",
    "    q = db.session.get(Question, 2)\n",
    "    q.subject = 'Flask Model Question'\n",
    "    db.session.commit()\n",
    "\n",
    "    q = db.session.get(Question, 1)\n",
    "    db.session.delete(q)\n",
    "    db.session.commit()\n",
    "\n",
    "    print(\"Question.query.all():\")\n",
    "    for q in Question.query.all():\n",
    "        print(f\"  - {q}\")"
   ],
   "id": "8cf54c2dfaaea1d0",
   "outputs": [
    {
     "name": "stdout",
     "output_type": "stream",
     "text": [
      "Question.query.all():\n",
      "  - Question(id: 2, subject: Flask Model Question)\n"
     ]
    }
   ],
   "execution_count": 8
  },
  {
   "metadata": {
    "ExecuteTime": {
     "end_time": "2024-10-07T16:05:07.868041Z",
     "start_time": "2024-10-07T16:05:07.862616Z"
    }
   },
   "cell_type": "code",
   "source": [
    "with app.app_context():\n",
    "    q = db.session.get(Question, 2)\n",
    "    a = Answer(question=q, content='네 자동으로 생성됩니다.', create_date=datetime.now())\n",
    "    db.session.add(a)\n",
    "    db.session.commit()\n",
    "    print(f\"a.id={a.id}\")\n",
    "\n",
    "    a = db.session.get(Answer, 1)\n",
    "    print(f\"db.session.get(Answer, 1): {a}\")\n",
    "    print(f\"a.question: {a.question}\")\n",
    "    print(f\"q.answer_set:\")\n",
    "    for a in q.answer_set:\n",
    "        print(f\"  - {a}\")"
   ],
   "id": "90e56c427f0f3e7c",
   "outputs": [
    {
     "name": "stdout",
     "output_type": "stream",
     "text": [
      "a.id=1\n",
      "db.session.get(Answer, 1): Answer(id: 1, question_id: 2)\n",
      "a.question: Question(id: 2, subject: Flask Model Question)\n",
      "q.answer_set:\n",
      "  - Answer(id: 1, question_id: 2)\n"
     ]
    }
   ],
   "execution_count": 9
  }
 ],
 "metadata": {
  "kernelspec": {
   "display_name": "Python 3",
   "language": "python",
   "name": "python3"
  },
  "language_info": {
   "codemirror_mode": {
    "name": "ipython",
    "version": 2
   },
   "file_extension": ".py",
   "mimetype": "text/x-python",
   "name": "python",
   "nbconvert_exporter": "python",
   "pygments_lexer": "ipython2",
   "version": "2.7.6"
  }
 },
 "nbformat": 4,
 "nbformat_minor": 5
}
