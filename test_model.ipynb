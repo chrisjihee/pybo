{
 "cells": [
  {
   "cell_type": "code",
   "id": "initial_id",
   "metadata": {
    "collapsed": true,
    "ExecuteTime": {
     "end_time": "2024-10-07T12:56:51.584554Z",
     "start_time": "2024-10-07T12:56:51.395064Z"
    }
   },
   "source": [
    "from app.models import Question, Answer\n",
    "from datetime import datetime\n",
    "from app import create_app, db\n",
    "\n",
    "app = create_app()"
   ],
   "outputs": [],
   "execution_count": 1
  },
  {
   "metadata": {
    "ExecuteTime": {
     "end_time": "2024-10-07T12:56:51.595260Z",
     "start_time": "2024-10-07T12:56:51.587092Z"
    }
   },
   "cell_type": "code",
   "source": [
    "with app.app_context():\n",
    "    for q in Question.query.all():\n",
    "        db.session.delete(q)\n",
    "        db.session.commit()\n",
    "    for a in Answer.query.all():\n",
    "        db.session.delete(a)\n",
    "        db.session.commit()"
   ],
   "id": "a5a2cbbea84e5d97",
   "outputs": [],
   "execution_count": 2
  },
  {
   "metadata": {
    "ExecuteTime": {
     "end_time": "2024-10-07T12:56:51.639402Z",
     "start_time": "2024-10-07T12:56:51.633993Z"
    }
   },
   "cell_type": "code",
   "source": [
    "with app.app_context():\n",
    "    q = Question(subject='Pybo가 무엇인가요?', content='Pybo에 대해서 알고 싶습니다.', create_date=datetime.now())\n",
    "    db.session.add(q)\n",
    "    db.session.commit()\n",
    "    print(f\"q.id={q.id}\")\n",
    "\n",
    "    q = Question(subject='Flask 모델 질문입니다.', content='id는 자동으로 생성되나요?', create_date=datetime.now())\n",
    "    db.session.add(q)\n",
    "    db.session.commit()\n",
    "    print(f\"q.id={q.id}\")"
   ],
   "id": "2524c02bce7b755a",
   "outputs": [
    {
     "name": "stdout",
     "output_type": "stream",
     "text": [
      "q.id=1\n",
      "q.id=2\n"
     ]
    }
   ],
   "execution_count": 3
  },
  {
   "metadata": {
    "ExecuteTime": {
     "end_time": "2024-10-07T12:56:51.645499Z",
     "start_time": "2024-10-07T12:56:51.643270Z"
    }
   },
   "cell_type": "code",
   "source": [
    "with app.app_context():\n",
    "    print(\"Question.query.all():\")\n",
    "    for q in Question.query.all():\n",
    "        print(f\"  - {q}\")"
   ],
   "id": "c579593187c405cc",
   "outputs": [
    {
     "name": "stdout",
     "output_type": "stream",
     "text": [
      "Question.query.all():\n",
      "  - Question(id: 1, subject: Pybo가 무엇인가요?)\n",
      "  - Question(id: 2, subject: Flask 모델 질문입니다.)\n"
     ]
    }
   ],
   "execution_count": 4
  },
  {
   "metadata": {
    "ExecuteTime": {
     "end_time": "2024-10-07T12:56:51.653740Z",
     "start_time": "2024-10-07T12:56:51.651316Z"
    }
   },
   "cell_type": "code",
   "source": [
    "with app.app_context():\n",
    "    print(\"Question.query.filter(Question.id==1).all():\")\n",
    "    for q in Question.query.filter(Question.id == 1).all():\n",
    "        print(f\"  - {q}\")"
   ],
   "id": "186e1063f24b76da",
   "outputs": [
    {
     "name": "stdout",
     "output_type": "stream",
     "text": [
      "Question.query.filter(Question.id==1).all():\n",
      "  - Question(id: 1, subject: Pybo가 무엇인가요?)\n"
     ]
    }
   ],
   "execution_count": 5
  },
  {
   "metadata": {
    "ExecuteTime": {
     "end_time": "2024-10-07T12:56:51.660660Z",
     "start_time": "2024-10-07T12:56:51.658211Z"
    }
   },
   "cell_type": "code",
   "source": [
    "with app.app_context():\n",
    "    q = db.session.get(Question, 1)\n",
    "    print(f\"  - {q}\")"
   ],
   "id": "b202733ccdaf1396",
   "outputs": [
    {
     "name": "stdout",
     "output_type": "stream",
     "text": [
      "  - Question(id: 1, subject: Pybo가 무엇인가요?)\n"
     ]
    }
   ],
   "execution_count": 6
  },
  {
   "metadata": {
    "ExecuteTime": {
     "end_time": "2024-10-07T12:56:51.668476Z",
     "start_time": "2024-10-07T12:56:51.665663Z"
    }
   },
   "cell_type": "code",
   "source": [
    "with app.app_context():\n",
    "    print(\"Question.query.filter(Question.subject.like('%Flask%')).all()\")\n",
    "    for q in Question.query.filter(Question.subject.like('%Flask%')).all():\n",
    "        print(f\"  - {q}\")"
   ],
   "id": "e513c17befa64835",
   "outputs": [
    {
     "name": "stdout",
     "output_type": "stream",
     "text": [
      "Question.query.filter(Question.subject.like('%Flask%')).all()\n",
      "  - Question(id: 2, subject: Flask 모델 질문입니다.)\n"
     ]
    }
   ],
   "execution_count": 7
  },
  {
   "metadata": {
    "ExecuteTime": {
     "end_time": "2024-10-07T12:56:51.677191Z",
     "start_time": "2024-10-07T12:56:51.672589Z"
    }
   },
   "cell_type": "code",
   "source": [
    "with app.app_context():\n",
    "    q = db.session.get(Question, 2)\n",
    "    q.subject = 'Flask Model Question'\n",
    "    db.session.commit()\n",
    "\n",
    "    q = db.session.get(Question, 1)\n",
    "    db.session.delete(q)\n",
    "    db.session.commit()\n",
    "\n",
    "    print(\"Question.query.all():\")\n",
    "    for q in Question.query.all():\n",
    "        print(f\"  - {q}\")"
   ],
   "id": "8cf54c2dfaaea1d0",
   "outputs": [
    {
     "name": "stdout",
     "output_type": "stream",
     "text": [
      "Question.query.all():\n",
      "  - Question(id: 2, subject: Flask Model Question)\n"
     ]
    }
   ],
   "execution_count": 8
  },
  {
   "metadata": {
    "ExecuteTime": {
     "end_time": "2024-10-07T12:56:51.743681Z",
     "start_time": "2024-10-07T12:56:51.736729Z"
    }
   },
   "cell_type": "code",
   "source": [
    "with app.app_context():\n",
    "    q = db.session.get(Question, 2)\n",
    "    a = Answer(question=q, content='네 자동으로 생성됩니다.', create_date=datetime.now())\n",
    "    db.session.add(a)\n",
    "    db.session.commit()\n",
    "    print(f\"a.id={a.id}\")\n",
    "    \n",
    "    a = db.session.get(Answer, 1)\n",
    "    print(f\"db.session.get(Answer, 1): {a}\")\n",
    "    print(f\"a.question: {a.question}\")\n",
    "    print(f\"q.answer_set:\")\n",
    "    for a in q.answer_set:\n",
    "        print(f\"  - {a}\")"
   ],
   "id": "90e56c427f0f3e7c",
   "outputs": [
    {
     "name": "stdout",
     "output_type": "stream",
     "text": [
      "a.id=1\n",
      "db.session.get(Answer, 1): Answer(id: 1, question_id: 2)\n",
      "a.question: Question(id: 2, subject: Flask Model Question)\n",
      "q.answer_set:\n",
      "  - Answer(id: 1, question_id: 2)\n"
     ]
    }
   ],
   "execution_count": 9
  }
 ],
 "metadata": {
  "kernelspec": {
   "display_name": "Python 3",
   "language": "python",
   "name": "python3"
  },
  "language_info": {
   "codemirror_mode": {
    "name": "ipython",
    "version": 2
   },
   "file_extension": ".py",
   "mimetype": "text/x-python",
   "name": "python",
   "nbconvert_exporter": "python",
   "pygments_lexer": "ipython2",
   "version": "2.7.6"
  }
 },
 "nbformat": 4,
 "nbformat_minor": 5
}
